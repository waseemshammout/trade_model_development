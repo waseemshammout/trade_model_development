{
 "cells": [
  {
   "cell_type": "code",
   "execution_count": 57,
   "id": "c336dd31",
   "metadata": {},
   "outputs": [],
   "source": [
    "import pandas as pd\n",
    "import numpy as np\n",
    "import matplotlib.pyplot as plt\n",
    "from sklearn.linear_model import LogisticRegression\n",
    "from sklearn.preprocessing import StandardScaler\n",
    "import lightgbm as lgb\n",
    "from sklearn.metrics import precision_score, recall_score, f1_score, accuracy_score, confusion_matrix\n",
    "from sklearn.model_selection import TimeSeriesSplit\n",
    "from imblearn.over_sampling import SMOTE\n",
    "import warnings\n",
    "warnings.filterwarnings(\"ignore\")  "
   ]
  },
  {
   "cell_type": "code",
   "execution_count": 58,
   "id": "a050baf8",
   "metadata": {},
   "outputs": [],
   "source": [
    "# Load and preprocess data\n",
    "df = pd.read_csv(\"SE5.csv\", parse_dates=[\"Time\"])\n",
    "df = df.sort_values(by=\"Time\").reset_index(drop=True)"
   ]
  },
  {
   "cell_type": "code",
   "execution_count": 59,
   "id": "f5d51048",
   "metadata": {},
   "outputs": [],
   "source": [
    "# Train-validation and test split\n",
    "test = df[df[\"Time\"] >= \"2024-01-01\"]\n",
    "train_val = df[df[\"Time\"] < \"2024-01-01\"]\n",
    "\n",
    "X = train_val.drop(columns=[\"class\"])\n",
    "y = train_val[\"class\"]\n",
    "X_test = test.drop(columns=[\"class\"])\n",
    "y_test = test[\"class\"]"
   ]
  },
  {
   "cell_type": "code",
   "execution_count": 60,
   "id": "7ff46035",
   "metadata": {},
   "outputs": [],
   "source": [
    "# Function to calculate stability score\n",
    "def stability_metrics(results_df, start_date, end_date):\n",
    "    interval_df = results_df[\n",
    "        (results_df[\"Time\"] >= start_date) & (results_df[\"Time\"] <= end_date)\n",
    "    ]\n",
    "\n",
    "    tp = len(interval_df[(interval_df[\"class\"] == 1) & (interval_df[\"pred\"] == 1)])\n",
    "    fp = len(interval_df[(interval_df[\"class\"] == 0) & (interval_df[\"pred\"] == 1)])\n",
    "    total_trades = len(interval_df)\n",
    "    profitable_trades_n = len(interval_df[interval_df[\"class\"] == 1])\n",
    "\n",
    "    if total_trades == 0 or fp == 0 or profitable_trades_n == 0:\n",
    "        return {\"Stability Score\": np.nan, \"TP\": tp, \"FP\": fp, \"Profitable Trade %\": 0}\n",
    "\n",
    "    profitable_ratio = profitable_trades_n / total_trades\n",
    "    stability = (tp / fp) / profitable_ratio\n",
    "\n",
    "    return {\n",
    "        \"Stability Score\": stability,\n",
    "        \"TP\": tp,\n",
    "        \"FP\": fp,\n",
    "        \"Profitable Trade %\": profitable_ratio,\n",
    "    }"
   ]
  },
  {
   "cell_type": "code",
   "execution_count": 61,
   "id": "67dfee95",
   "metadata": {},
   "outputs": [
    {
     "name": "stdout",
     "output_type": "stream",
     "text": [
      "Fold 1\n",
      "[LightGBM] [Info] Number of positive: 5345, number of negative: 5345\n",
      "[LightGBM] [Info] Auto-choosing col-wise multi-threading, the overhead of testing was 0.055573 seconds.\n",
      "You can set `force_col_wise=true` to remove the overhead.\n",
      "[LightGBM] [Info] Total Bins 73386\n",
      "[LightGBM] [Info] Number of data points in the train set: 10690, number of used features: 685\n",
      "[LightGBM] [Info] [binary:BoostFromScore]: pavg=0.500000 -> initscore=0.000000\n",
      "Fold 2\n",
      "[LightGBM] [Info] Number of positive: 10684, number of negative: 10684\n",
      "[LightGBM] [Info] Auto-choosing col-wise multi-threading, the overhead of testing was 0.089455 seconds.\n",
      "You can set `force_col_wise=true` to remove the overhead.\n",
      "[LightGBM] [Info] Total Bins 73495\n",
      "[LightGBM] [Info] Number of data points in the train set: 21368, number of used features: 695\n",
      "[LightGBM] [Info] [binary:BoostFromScore]: pavg=0.500000 -> initscore=0.000000\n",
      "Fold 3\n",
      "[LightGBM] [Info] Number of positive: 16101, number of negative: 16101\n",
      "[LightGBM] [Info] Auto-choosing col-wise multi-threading, the overhead of testing was 0.111301 seconds.\n",
      "You can set `force_col_wise=true` to remove the overhead.\n",
      "[LightGBM] [Info] Total Bins 73559\n",
      "[LightGBM] [Info] Number of data points in the train set: 32202, number of used features: 696\n",
      "[LightGBM] [Info] [binary:BoostFromScore]: pavg=0.500000 -> initscore=0.000000\n",
      "Fold 4\n",
      "[LightGBM] [Info] Number of positive: 21633, number of negative: 21633\n",
      "[LightGBM] [Info] Auto-choosing col-wise multi-threading, the overhead of testing was 0.162948 seconds.\n",
      "You can set `force_col_wise=true` to remove the overhead.\n",
      "[LightGBM] [Info] Total Bins 73573\n",
      "[LightGBM] [Info] Number of data points in the train set: 43266, number of used features: 699\n",
      "[LightGBM] [Info] [binary:BoostFromScore]: pavg=0.500000 -> initscore=0.000000\n",
      "Fold 5\n",
      "[LightGBM] [Info] Number of positive: 26994, number of negative: 26994\n",
      "[LightGBM] [Info] Auto-choosing col-wise multi-threading, the overhead of testing was 0.198138 seconds.\n",
      "You can set `force_col_wise=true` to remove the overhead.\n",
      "[LightGBM] [Info] Total Bins 73580\n",
      "[LightGBM] [Info] Number of data points in the train set: 53988, number of used features: 702\n",
      "[LightGBM] [Info] [binary:BoostFromScore]: pavg=0.500000 -> initscore=0.000000\n"
     ]
    }
   ],
   "source": [
    "# Cross-validation\n",
    "\n",
    "folds = 5\n",
    "cv_metrics = {\n",
    "    \"precision\": list(),\n",
    "    \"recall\": list(),\n",
    "    \"f1\": list(),\n",
    "    \"Train Period\": list(),\n",
    "    \"Valid Period\": list(),\n",
    "    \"Stability Score\": list()\n",
    "}\n",
    "\n",
    "tscv = TimeSeriesSplit(n_splits=folds)\n",
    "for i, (train_idx, val_idx) in enumerate(tscv.split(X, y)):\n",
    "    print(f\"Fold {i + 1}\")\n",
    "    x_tr, x_va = X.iloc[train_idx], X.iloc[val_idx]\n",
    "    y_tr, y_va = y.iloc[train_idx], y.iloc[val_idx]\n",
    "\n",
    "    train_start = x_tr['Time'].min()\n",
    "    train_end = x_tr['Time'].max()\n",
    "    val_start = x_va['Time'].min()\n",
    "    val_end = x_va['Time'].max()\n",
    "\n",
    "    interval_start_date = val_start\n",
    "    interval_end_date = val_end\n",
    "\n",
    "    cv_metrics[\"Train Period\"].append(f\"{train_start.strftime('%Y-%m')} - {train_end.strftime('%Y-%m')}\")\n",
    "    cv_metrics[\"Valid Period\"].append(f\"{val_start.strftime('%Y-%m')} - {val_end.strftime('%Y-%m')}\")\n",
    "\n",
    "    smote = SMOTE(random_state=1)\n",
    "    X_train_resampled, y_train_resampled = smote.fit_resample(x_tr.drop(columns='Time'), y_tr)\n",
    "\n",
    "    model = lgb.LGBMClassifier(random_state=1, scale_pos_weight=4)\n",
    "    model.fit(X_train_resampled, y_train_resampled)\n",
    "\n",
    "    y_val_pred = model.predict(x_va.drop(columns='Time'))\n",
    "\n",
    "    # Collect validation metrics\n",
    "    cv_metrics[\"precision\"].append(precision_score(y_va, y_val_pred))\n",
    "    cv_metrics[\"recall\"].append(recall_score(y_va, y_val_pred))\n",
    "    cv_metrics[\"f1\"].append(f1_score(y_va, y_val_pred))\n",
    "\n",
    "    temp_val_df = x_va\n",
    "    temp_val_df['pred'] = y_val_pred\n",
    "    temp_val_df['class'] = y_va\n",
    "\n",
    "\n",
    "    stability_dict = stability_metrics(temp_val_df, interval_start_date, interval_end_date)\n",
    "    cv_metrics['Stability Score'].append(stability_dict['Stability Score'])\n",
    "    "
   ]
  },
  {
   "cell_type": "code",
   "execution_count": 62,
   "id": "b35b9031",
   "metadata": {},
   "outputs": [
    {
     "data": {
      "text/html": [
       "<div>\n",
       "<style scoped>\n",
       "    .dataframe tbody tr th:only-of-type {\n",
       "        vertical-align: middle;\n",
       "    }\n",
       "\n",
       "    .dataframe tbody tr th {\n",
       "        vertical-align: top;\n",
       "    }\n",
       "\n",
       "    .dataframe thead th {\n",
       "        text-align: right;\n",
       "    }\n",
       "</style>\n",
       "<table border=\"1\" class=\"dataframe\">\n",
       "  <thead>\n",
       "    <tr style=\"text-align: right;\">\n",
       "      <th></th>\n",
       "      <th>Train Period</th>\n",
       "      <th>Valid Period</th>\n",
       "      <th>Precision</th>\n",
       "      <th>Recall</th>\n",
       "      <th>F1</th>\n",
       "      <th>Stability</th>\n",
       "    </tr>\n",
       "  </thead>\n",
       "  <tbody>\n",
       "    <tr>\n",
       "      <th>0</th>\n",
       "      <td>2008-01 - 2010-05</td>\n",
       "      <td>2010-05 - 2012-07</td>\n",
       "      <td>0.204692</td>\n",
       "      <td>0.301695</td>\n",
       "      <td>0.243902</td>\n",
       "      <td>1.188982</td>\n",
       "    </tr>\n",
       "    <tr>\n",
       "      <th>1</th>\n",
       "      <td>2008-01 - 2012-07</td>\n",
       "      <td>2012-07 - 2015-08</td>\n",
       "      <td>0.195402</td>\n",
       "      <td>0.243379</td>\n",
       "      <td>0.216768</td>\n",
       "      <td>1.184559</td>\n",
       "    </tr>\n",
       "    <tr>\n",
       "      <th>2</th>\n",
       "      <td>2008-01 - 2015-08</td>\n",
       "      <td>2015-08 - 2018-07</td>\n",
       "      <td>0.158473</td>\n",
       "      <td>0.213729</td>\n",
       "      <td>0.181999</td>\n",
       "      <td>1.000925</td>\n",
       "    </tr>\n",
       "    <tr>\n",
       "      <th>3</th>\n",
       "      <td>2008-01 - 2018-07</td>\n",
       "      <td>2018-07 - 2021-03</td>\n",
       "      <td>0.195743</td>\n",
       "      <td>0.291122</td>\n",
       "      <td>0.234090</td>\n",
       "      <td>1.141372</td>\n",
       "    </tr>\n",
       "    <tr>\n",
       "      <th>4</th>\n",
       "      <td>2008-01 - 2021-03</td>\n",
       "      <td>2021-03 - 2023-12</td>\n",
       "      <td>0.213565</td>\n",
       "      <td>0.466253</td>\n",
       "      <td>0.292947</td>\n",
       "      <td>1.274389</td>\n",
       "    </tr>\n",
       "  </tbody>\n",
       "</table>\n",
       "</div>"
      ],
      "text/plain": [
       "        Train Period       Valid Period  Precision    Recall        F1  \\\n",
       "0  2008-01 - 2010-05  2010-05 - 2012-07   0.204692  0.301695  0.243902   \n",
       "1  2008-01 - 2012-07  2012-07 - 2015-08   0.195402  0.243379  0.216768   \n",
       "2  2008-01 - 2015-08  2015-08 - 2018-07   0.158473  0.213729  0.181999   \n",
       "3  2008-01 - 2018-07  2018-07 - 2021-03   0.195743  0.291122  0.234090   \n",
       "4  2008-01 - 2021-03  2021-03 - 2023-12   0.213565  0.466253  0.292947   \n",
       "\n",
       "   Stability  \n",
       "0   1.188982  \n",
       "1   1.184559  \n",
       "2   1.000925  \n",
       "3   1.141372  \n",
       "4   1.274389  "
      ]
     },
     "execution_count": 62,
     "metadata": {},
     "output_type": "execute_result"
    }
   ],
   "source": [
    "cv_results_df = pd.DataFrame(\n",
    "    {\n",
    "        \"Train Period\": cv_metrics[\"Train Period\"],\n",
    "        \"Valid Period\": cv_metrics[\"Valid Period\"],\n",
    "        \"Precision\": cv_metrics[\"precision\"],\n",
    "        \"Recall\": cv_metrics[\"recall\"],\n",
    "        \"F1\": cv_metrics[\"f1\"],\n",
    "        \"Stability\": cv_metrics['Stability Score']\n",
    "    }\n",
    ")\n",
    "cv_results_df"
   ]
  },
  {
   "cell_type": "code",
   "execution_count": 63,
   "id": "aa760f92",
   "metadata": {},
   "outputs": [
    {
     "data": {
      "image/png": "[encoded data removed]",
      "text/plain": [
       "<Figure size 800x600 with 1 Axes>"
      ]
     },
     "metadata": {},
     "output_type": "display_data"
    }
   ],
   "source": [
    "plt.figure(figsize=(8, 6))\n",
    "plt.plot(cv_results_df[\"Valid Period\"], cv_results_df[\"Precision\"], marker='o', label=\"Precision\")\n",
    "plt.plot(cv_results_df[\"Valid Period\"], cv_results_df[\"Recall\"], marker='o', label=\"Recall\")\n",
    "plt.plot(cv_results_df[\"Valid Period\"], cv_results_df[\"F1\"], marker='o', label=\"F1 Score\")\n",
    "# plt.plot(cv_results_df[\"Valid Period\"], cv_results_df[\"Stability\"], marker='o', label=\"Stability\")\n",
    "\n",
    "plt.xlabel(\"Validation Period\")\n",
    "plt.ylabel(\"Score\")\n",
    "plt.title(\"Model Performance Over Time\")\n",
    "plt.xticks(rotation=90)\n",
    "plt.ylim(0, 0.6)\n",
    "plt.grid(True)\n",
    "plt.legend()\n",
    "plt.tight_layout()\n",
    "plt.show()"
   ]
  },
  {
   "cell_type": "code",
   "execution_count": 64,
   "id": "65f67b5e",
   "metadata": {},
   "outputs": [],
   "source": [
    "start_date, end_date = '2024-01-01', '2024-12-31'\n",
    "X_test_sliced = X_test[(X_test['Time']>=start_date) & (X_test['Time']<=end_date)].drop(columns='Time')\n",
    "y_test_sliced = test[(test['Time']>=start_date) & (test['Time']<=end_date)]['class']"
   ]
  },
  {
   "cell_type": "code",
   "execution_count": 65,
   "id": "f5d91afd",
   "metadata": {},
   "outputs": [
    {
     "name": "stdout",
     "output_type": "stream",
     "text": [
      "[LightGBM] [Info] Number of positive: 32356, number of negative: 32356\n",
      "[LightGBM] [Info] Auto-choosing col-wise multi-threading, the overhead of testing was 0.231926 seconds.\n",
      "You can set `force_col_wise=true` to remove the overhead.\n",
      "[LightGBM] [Info] Total Bins 73582\n",
      "[LightGBM] [Info] Number of data points in the train set: 64712, number of used features: 703\n",
      "[LightGBM] [Info] [binary:BoostFromScore]: pavg=0.500000 -> initscore=0.000000\n"
     ]
    }
   ],
   "source": [
    "# Testing on unseen data\n",
    "\n",
    "smote = SMOTE(random_state=1)\n",
    "X_train_resampled, y_train_resampled = smote.fit_resample(X.drop(columns='Time'), y)\n",
    "\n",
    "model = lgb.LGBMClassifier(random_state=1, scale_pos_weight=4)\n",
    "model.fit(X_train_resampled, y_train_resampled)\n",
    "\n",
    "y_test_pred = model.predict(X_test_sliced)\n"
   ]
  },
  {
   "cell_type": "code",
   "execution_count": 66,
   "id": "e2e1056c",
   "metadata": {},
   "outputs": [
    {
     "data": {
      "text/plain": [
       "{'precision': 0.1669902912621359,\n",
       " 'recall': 0.4028103044496487,\n",
       " 'f1': 0.2361015785861359}"
      ]
     },
     "execution_count": 66,
     "metadata": {},
     "output_type": "execute_result"
    }
   ],
   "source": [
    "# Evaluate on test set\n",
    "test_metrics = {\n",
    "    \"precision\": precision_score(y_test_sliced, y_test_pred),\n",
    "    \"recall\": recall_score(y_test_sliced, y_test_pred),\n",
    "    \"f1\": f1_score(y_test_sliced, y_test_pred),\n",
    "}\n",
    "test_metrics"
   ]
  },
  {
   "cell_type": "code",
   "execution_count": 67,
   "id": "0447ba3b",
   "metadata": {},
   "outputs": [],
   "source": [
    "# Stability metric\n",
    "results = test[(test['Time']>=start_date) & (test['Time']<=end_date)]\n",
    "results[\"pred\"] = y_test_pred\n",
    "st_metrics = stability_metrics(results_df=results, start_date=start_date, end_date=end_date)"
   ]
  },
  {
   "cell_type": "code",
   "execution_count": 68,
   "id": "8d79dd3d",
   "metadata": {},
   "outputs": [
    {
     "name": "stdout",
     "output_type": "stream",
     "text": [
      "\n",
      "Final Test Set Metrics:\n",
      "precision: 0.1670\n",
      "recall: 0.4028\n",
      "f1: 0.2361\n",
      "\n",
      "Stability Metrics (2024 Q1):\n",
      "Stability Score: 1.0858977088485284\n",
      "TP: 172\n",
      "FP: 858\n",
      "Profitable Trade %: 0.18460873324686555\n"
     ]
    }
   ],
   "source": [
    "print(\"\\nFinal Test Set Metrics:\")\n",
    "for key, value in test_metrics.items():\n",
    "    print(f\"{key}: {value:.4f}\")\n",
    "\n",
    "print(\"\\nStability Metrics (2024 Q1):\")\n",
    "for key, value in st_metrics.items():\n",
    "    print(f\"{key}: {value}\")\n"
   ]
  }
 ],
 "metadata": {
  "kernelspec": {
   "display_name": "venv",
   "language": "python",
   "name": "python3"
  },
  "language_info": {
   "codemirror_mode": {
    "name": "ipython",
    "version": 3
   },
   "file_extension": ".py",
   "mimetype": "text/x-python",
   "name": "python",
   "nbconvert_exporter": "python",
   "pygments_lexer": "ipython3",
   "version": "3.12.9"
  }
 },
 "nbformat": 4,
 "nbformat_minor": 5
}
